{
 "cells": [
  {
   "cell_type": "code",
   "execution_count": null,
   "metadata": {},
   "outputs": [],
   "source": [
    "#K Nearest Neighbors:\n",
    "#Use the k-nearest neighbors algorithm to return the k nearest neighbors of the provided features."
   ]
  },
  {
   "cell_type": "markdown",
   "metadata": {},
   "source": [
    "\n",
    "Note that:\n",
    "K Nearest Neighbors:\n",
    "Use the k-nearest neighbors algorithm to return the k nearest neighbors of the provided features.\n",
    "These features are the result of a dimensionality reduction by PCA on some operating-system data\n",
    "related to processes and their intrusivity in some network. You'll have access to an EXAMPLES\n",
    "dictionary, mapping each process identifier \"pid_i\" to a respective dictionary containing its\n",
    "associated features as well as a label representing whether the relevant process was intrusive to the\n",
    "network. A label of 0 means that it wasn't intrusive, while a label of 1 means that it was intrusive.\n",
    "Below is an example portion of the EXAMPLES :\n",
    "{\n",
    " \"pid_0\": {\n",
    " \"features\": [3.968642003034218, 3.9553899901567955, 3.8067717105202794, # ... mor\n",
    " \"is_intrusive\": 0,\n",
    " }, \n",
    " \"pid_1\": {\n",
    " \"features\": [3.905930716908446, 3.9843869514613046, 3.999386668299634, # ... more\n",
    " \"is_intrusive\": 0,\n",
    " }, \n",
    " # ...\n",
    " # More of the same kind of data.\n",
    " \"pid_500\": {\n",
    " \"features\": [4.309361217767318, 4.287392829732823, 4.296809382863873, # ... more"
   ]
  },
  {
   "cell_type": "code",
   "execution_count": null,
   "metadata": {},
   "outputs": [],
   "source": [
    "# Should use the `find_k_nearest_neighbors` function below.\n",
    "import math\n",
    "\n",
    "def predict_label(examples, features, k, label_key=\"is_intrusive\"):\n",
    "    k_nearest_neighbors = find_k_nearest_neighbors(examples,features,k)\n",
    "    k_nearest_neighbors_labels=[examples[pid][label_key] for pid in k_nearest_neighbors]\n",
    "    return round(sum(k_nearest_neighbors_labels) / k)\n",
    "\n",
    "    \n",
    "def find_k_nearest_neighbors(examples, features, k):\n",
    "    # Write your code here.\n",
    "    distances = {}\n",
    "    for pid,features_label_map in examples.items():\n",
    "        distance = get_euclidean_distance(features,features_label_map[\"features\"])\n",
    "        distances[pid] = distance\n",
    "    return sorted(distances,key=distances.get)[:k]       \n",
    "\n",
    "def get_euclidean_distance(features,other_features):\n",
    "    squared_differences = []\n",
    "    for i in range(len(features)):\n",
    "        squared_differences.append((other_features[i] - features[i]) ** 2)\n",
    "    return math.sqrt(sum(squared_differences))       "
   ]
  }
 ],
 "metadata": {
  "language_info": {
   "name": "python"
  },
  "orig_nbformat": 4
 },
 "nbformat": 4,
 "nbformat_minor": 2
}
